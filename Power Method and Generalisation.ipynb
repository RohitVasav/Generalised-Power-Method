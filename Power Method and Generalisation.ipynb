{
 "cells": [
  {
   "cell_type": "code",
   "execution_count": 1,
   "metadata": {},
   "outputs": [],
   "source": [
    "from pylab import *\n",
    "from numpy import *"
   ]
  },
  {
   "cell_type": "markdown",
   "metadata": {},
   "source": [
    "## Power Iteration Method"
   ]
  },
  {
   "cell_type": "code",
   "execution_count": 2,
   "metadata": {},
   "outputs": [
    {
     "name": "stdout",
     "output_type": "stream",
     "text": [
      "A=\n",
      "[[ 1 -1 -1]\n",
      " [ 3  1  1]\n",
      " [-3  2 -1]]\n",
      "\n",
      "Dominant Eigenvalue=\n",
      "-2.3797 \n",
      "\n",
      "\n",
      "Dominant Eigenvector=\n",
      "[ 0.1492 -0.4     0.9043] \n",
      "\n"
     ]
    }
   ],
   "source": [
    "A = array([[1,-1,-1],[3,1,1],[-3,2,-1]])\n",
    "n=len(A)\n",
    "\n",
    "print(\"A=\")\n",
    "print(A)\n",
    "\n",
    "X= random.rand(n)\n",
    "\n",
    "l1=0\n",
    "\n",
    "while True:\n",
    "    Y = A @ X\n",
    "    Y=Y/norm(Y)\n",
    "    l=vdot(Y,(A@Y))/ vdot(Y,Y)\n",
    "\n",
    "    if abs(l-l1)<10**-8:\n",
    "        break\n",
    "    X=Y\n",
    "    l1=l\n",
    "    \n",
    "print(\"\\nDominant Eigenvalue=\")\n",
    "print(l.round(decimals=4),'\\n')\n",
    "\n",
    "print(\"\\nDominant Eigenvector=\")\n",
    "print((Y/norm(Y)).round(decimals=4),'\\n')"
   ]
  },
  {
   "cell_type": "markdown",
   "metadata": {},
   "source": [
    "## Generalization "
   ]
  },
  {
   "cell_type": "code",
   "execution_count": 3,
   "metadata": {},
   "outputs": [],
   "source": [
    "def genpower(A):\n",
    "    \n",
    "    n=len(A)\n",
    "    \n",
    "    eigval=zeros(n)\n",
    "    eigvec=zeros((n,n))\n",
    "    dom=zeros((n,n))\n",
    "    \n",
    "    for i in range(0,n):\n",
    "\n",
    "        lambda1=0.0\n",
    "\n",
    "        X= array([random.rand(n)]).T\n",
    "\n",
    "        c=1\n",
    "\n",
    "        while(True):\n",
    "            lambda_ = X.flat[abs(X).argmax()]\n",
    "            Y = X/lambda_\n",
    "            X=dot(A,Y)\n",
    "\n",
    "            if abs(lambda_-lambda1)<10**-5:\n",
    "                break\n",
    "            lambda1=lambda_\n",
    "\n",
    "            c=c+1\n",
    "\n",
    "        eigval[i]=lambda_\n",
    "        Y=Y/norm(Y)\n",
    "\n",
    "        dom[:,i]=Y[:,0]\n",
    "        G=dom[:,i]\n",
    "\n",
    "        for j in range(0,i):\n",
    "            G=(eigval[i]-eigval[i-j-1])*G+eigval[i-j-1]*dot(dom[:,i-j-1].T,G)*dom[:,i-j-1]\n",
    "            G=G/norm(G)\n",
    "\n",
    "        eigvec[:,i]=G\n",
    "\n",
    "        A = A - lambda_*dot(Y,Y.T)\n",
    "    \n",
    "    idx = eigval.argsort()\n",
    "\n",
    "    eigval = eigval[idx]\n",
    "    eigvec = eigvec[:,idx]\n",
    "    \n",
    "    return array(eigval),array(eigvec)"
   ]
  },
  {
   "cell_type": "code",
   "execution_count": 4,
   "metadata": {},
   "outputs": [
    {
     "name": "stdout",
     "output_type": "stream",
     "text": [
      "Eigenvalues of A:\n",
      "[-2.41666039  1.03897543  5.94984401  7.30353875 19.12428223] \n",
      "\n",
      "Eigenvectors of A:\n",
      "[[ 0.07569351  0.00198846 -0.06855804  0.11079006  0.32279146]\n",
      " [ 0.24533402 -0.45578246  0.30686183  0.09729879  0.02195144]\n",
      " [ 0.76365365 -0.5071871  -0.75946574  0.65348706  0.22738055]\n",
      " [ 0.2137999  -0.71857628 -0.0163715  -0.12858957  0.02890687]\n",
      " [-0.55245309 -0.13663003 -0.5692797   0.73121672  0.91803393]] \n",
      "\n"
     ]
    }
   ],
   "source": [
    "A=array([[19,-1,-2,2,0.5],[-1,5,-1,-2,1],[-2,-1,2,-1,5],[2,-2,-1,3,0.1],[50,-1,-2,2,2]])\n",
    "\n",
    "eigval,eigvec=genpower(A)\n",
    " \n",
    "print(\"Eigenvalues of A:\")\n",
    "print(eigval,'\\n')\n",
    "\n",
    "print(\"Eigenvectors of A:\")\n",
    "print(eigvec,'\\n')"
   ]
  },
  {
   "cell_type": "markdown",
   "metadata": {},
   "source": [
    "## Quantum Harmonic Oscillator"
   ]
  },
  {
   "cell_type": "code",
   "execution_count": 5,
   "metadata": {},
   "outputs": [],
   "source": [
    "N=100\n",
    "xi,xf=-6,6\n",
    "X=linspace(xi,xf,N)\n",
    "delta=(xf-xi)/N"
   ]
  },
  {
   "cell_type": "code",
   "execution_count": 6,
   "metadata": {},
   "outputs": [],
   "source": [
    "def U(y):            # dimensionless potential function\n",
    "    return y**2"
   ]
  },
  {
   "cell_type": "code",
   "execution_count": 7,
   "metadata": {},
   "outputs": [],
   "source": [
    "T = diag(-2*X**0,0) + diag(X[1:N]**0,-1) + diag(X[1:N]**0,1)    # double derivative tri-diagonal matrix\n",
    "\n",
    "P = diag(U(X))                      # potential diagonal matrix\n",
    "\n",
    "H = T/(-delta**2) + P               # Hermitian Matrix\n",
    "\n",
    "H_eigenvalues, H_eigenvectors = genpower(H)\n",
    "H_eigenvectors /= -sqrt(N*delta)\n",
    "\n",
    "mod=[H_eigenvectors[:,i] @ H_eigenvectors[:,i].conj().T for i in range(0,N)]"
   ]
  },
  {
   "cell_type": "code",
   "execution_count": 8,
   "metadata": {},
   "outputs": [
    {
     "data": {
      "text/plain": [
       "<matplotlib.legend.Legend at 0x211c9870288>"
      ]
     },
     "execution_count": 8,
     "metadata": {},
     "output_type": "execute_result"
    },
    {
     "data": {
      "image/png": "[encoded data removed]",
      "text/plain": [
       "<Figure size 432x288 with 1 Axes>"
      ]
     },
     "metadata": {
      "needs_background": "light"
     },
     "output_type": "display_data"
    }
   ],
   "source": [
    "n=5\n",
    "\n",
    "plot(X,10*H_eigenvectors[:,0:n]+H_eigenvalues[0:n],color=\"green\")\n",
    "plot(X,U(X),label=\"Potential\")\n",
    "hlines(H_eigenvalues[0:n],xmin=min(X),xmax=max(X),color=\"red\")\n",
    "ylim(0,10)\n",
    "legend()"
   ]
  }
 ],
 "metadata": {
  "kernelspec": {
   "display_name": "Python 3",
   "language": "python",
   "name": "python3"
  },
  "language_info": {
   "codemirror_mode": {
    "name": "ipython",
    "version": 3
   },
   "file_extension": ".py",
   "mimetype": "text/x-python",
   "name": "python",
   "nbconvert_exporter": "python",
   "pygments_lexer": "ipython3",
   "version": "3.7.9"
  }
 },
 "nbformat": 4,
 "nbformat_minor": 4
}
